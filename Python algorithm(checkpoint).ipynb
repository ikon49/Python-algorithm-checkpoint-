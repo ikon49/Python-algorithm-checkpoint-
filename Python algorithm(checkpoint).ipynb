{
 "cells": [
  {
   "cell_type": "code",
   "execution_count": null,
   "id": "1eb1e39f-b566-44fb-9efc-d1e4b33a1be4",
   "metadata": {},
   "outputs": [],
   "source": [
    "#  Python program for a binary search."
   ]
  },
  {
   "cell_type": "code",
   "execution_count": 1,
   "id": "44222f1c-279a-48f8-9aee-bebe1a51117b",
   "metadata": {},
   "outputs": [
    {
     "name": "stdout",
     "output_type": "stream",
     "text": [
      "False\n",
      "True\n"
     ]
    }
   ],
   "source": [
    "# Function Definition: The binary_search function takes two parameters: arr (the sorted array) and key\n",
    "def binary_search(arr, key):\n",
    "    left = 0\n",
    "    right = len(arr) - 1\n",
    "# The middle index mid is calculated using the formula mid = left + (right - left) // 2.\n",
    "    while left <= right:\n",
    "        mid = left + (right - left) // 2\n",
    "        if arr[mid] == key:\n",
    "            return True\n",
    "        elif arr[mid] < key:\n",
    "            left = mid + 1\n",
    "        else:\n",
    "            right = mid - 1\n",
    "    \n",
    "    return False\n",
    "\n",
    "# Test Data\n",
    "print(binary_search([1, 2, 3, 5, 8], 6))  # Expected output: False\n",
    "print(binary_search([1, 2, 3, 5, 8], 5))  # Expected output: True\n"
   ]
  },
  {
   "cell_type": "code",
   "execution_count": null,
   "id": "4039e44d-7b52-44c5-9bc3-70d5720fc180",
   "metadata": {},
   "outputs": [],
   "source": [
    "# Python program to calculate the value of 'a' to the power 'b'."
   ]
  },
  {
   "cell_type": "code",
   "execution_count": 3,
   "id": "a1c3df8b-3066-4309-8a76-08709b9598af",
   "metadata": {},
   "outputs": [
    {
     "name": "stdout",
     "output_type": "stream",
     "text": [
      "81\n"
     ]
    }
   ],
   "source": [
    "# Function Definition: The power function takes two parameters: a (the base) and b (the exponent).\n",
    "def power(a, b):\n",
    "# Exponentiation: The function uses the exponentiation operator (**) to calculate a to the power of b and returns the result.\n",
    "    return a ** b\n",
    "\n",
    "# Test Data(The program tests the function with the provided test data, power(3, 4), which should return 81.)\n",
    "print(power(3, 4)) \n"
   ]
  },
  {
   "cell_type": "code",
   "execution_count": null,
   "id": "b83ef1a2-4c65-492e-ac92-b6cf626dfec4",
   "metadata": {},
   "outputs": [],
   "source": [
    "#  Python program to sort a list of elements using the bubble sort algorithm."
   ]
  },
  {
   "cell_type": "code",
   "execution_count": 4,
   "id": "d6c0177c-bb31-4760-b51e-8288c9439ad0",
   "metadata": {},
   "outputs": [
    {
     "name": "stdout",
     "output_type": "stream",
     "text": [
      "[13, 22, 29, 37, 46, 49, 52, 56, 71]\n"
     ]
    }
   ],
   "source": [
    "# Function Definition: The bubble_sort function takes a list arr as its parameter.\n",
    "def bubble_sort(arr):\n",
    "    n = len(arr)\n",
    "    for i in range(n):\n",
    "        # Track if any swaps are made during this pass\n",
    "        swapped = False\n",
    "        for j in range(0, n-i-1):\n",
    "            # Compare adjacent elements\n",
    "            if arr[j] > arr[j+1]:\n",
    "                # Swap if they are in the wrong order\n",
    "                arr[j], arr[j+1] = arr[j+1], arr[j]\n",
    "                swapped = True\n",
    "        # If no swaps were made, the list is already sorted\n",
    "        if not swapped:\n",
    "            break\n",
    "    return arr\n",
    "\n",
    "# Sample Data(The function returns the sorted list.)\n",
    "sample_data = [29, 13, 22, 37, 52, 49, 46, 71, 56]\n",
    "sorted_data = bubble_sort(sample_data)\n",
    "print(sorted_data)  # Expected output: [13, 22, 29, 37, 46, 49, 52, 56, 71]\n"
   ]
  },
  {
   "cell_type": "code",
   "execution_count": null,
   "id": "05d0fc51-4568-4efc-905e-6262347cf5b2",
   "metadata": {},
   "outputs": [],
   "source": [
    "# Python program to sort a list of elements using the merge sort algorithm."
   ]
  },
  {
   "cell_type": "code",
   "execution_count": 5,
   "id": "849324d3-4008-43b9-adcf-77d42c989443",
   "metadata": {},
   "outputs": [
    {
     "name": "stdout",
     "output_type": "stream",
     "text": [
      "[13, 22, 29, 37, 46, 49, 52, 56, 71]\n"
     ]
    }
   ],
   "source": [
    "# Function Definition: The merge_sort function takes a list arr as its parameter.\n",
    "def merge_sort(arr):\n",
    "    if len(arr) > 1:\n",
    "        # Divide the array into two halves\n",
    "        mid = len(arr) // 2\n",
    "        left_half = arr[:mid]\n",
    "        right_half = arr[mid:]\n",
    "\n",
    "        # Recursively sort each half\n",
    "        merge_sort(left_half)\n",
    "        merge_sort(right_half)\n",
    "\n",
    "        # Initialize pointers for left_half, right_half, and the main array\n",
    "        i = j = k = 0\n",
    "\n",
    "        # Merge the two halves\n",
    "        while i < len(left_half) and j < len(right_half):\n",
    "            if left_half[i] < right_half[j]:\n",
    "                arr[k] = left_half[i]\n",
    "                i += 1\n",
    "            else:\n",
    "                arr[k] = right_half[j]\n",
    "                j += 1\n",
    "            k += 1\n",
    "\n",
    "        # Check if any element was left in the left_half\n",
    "        while i < len(left_half):\n",
    "            arr[k] = left_half[i]\n",
    "            i += 1\n",
    "            k += 1\n",
    "\n",
    "        # Check if any element was left in the right_half\n",
    "        while j < len(right_half):\n",
    "            arr[k] = right_half[j]\n",
    "            j += 1\n",
    "            k += 1\n",
    "\n",
    "    return arr\n",
    "\n",
    "# Sample Data(The function returns the sorted list.)\n",
    "Test Data\n",
    "sample_data = [29, 13, 22, 37, 52, 49, 46, 71, 56]\n",
    "sorted_data = merge_sort(sample_data)\n",
    "print(sorted_data)  # Expected output: [13, 22, 29, 37, 46, 49, 52, 56, 71]\n"
   ]
  },
  {
   "cell_type": "code",
   "execution_count": null,
   "id": "084b7b5e-9213-43ca-bb75-cea2da9ebf3a",
   "metadata": {},
   "outputs": [],
   "source": [
    "# Python program to sort a list of elements using the quick sort algorithm."
   ]
  },
  {
   "cell_type": "code",
   "execution_count": 6,
   "id": "8486a88c-583c-4b6f-9f87-b0d68d8f955e",
   "metadata": {},
   "outputs": [
    {
     "name": "stdout",
     "output_type": "stream",
     "text": [
      "[13, 22, 29, 37, 46, 49, 52, 56, 71]\n"
     ]
    }
   ],
   "source": [
    "# Function Definition: The quick_sort function takes a list arr as its parameter.\n",
    "def quick_sort(arr):\n",
    "    if len(arr) <= 1:\n",
    "        return arr\n",
    "    else:\n",
    "        pivot = arr[len(arr) // 2] # The pivot is chosen as the middle element of the list.\n",
    "        left = [x for x in arr if x < pivot]\n",
    "        middle = [x for x in arr if x == pivot]\n",
    "        right = [x for x in arr if x > pivot]\n",
    "        return quick_sort(left) + middle + quick_sort(right)\n",
    "\n",
    "# Sample Data (The function returns the sorted list.)\n",
    "sample_data = [29, 13, 22, 37, 52, 49, 46, 71, 56]\n",
    "sorted_data = quick_sort(sample_data)\n",
    "print(sorted_data)  # Expected output: [13, 22, 29, 37, 46, 49, 52, 56, 71]\n"
   ]
  }
 ],
 "metadata": {
  "kernelspec": {
   "display_name": "Python 3 (ipykernel)",
   "language": "python",
   "name": "python3"
  },
  "language_info": {
   "codemirror_mode": {
    "name": "ipython",
    "version": 3
   },
   "file_extension": ".py",
   "mimetype": "text/x-python",
   "name": "python",
   "nbconvert_exporter": "python",
   "pygments_lexer": "ipython3",
   "version": "3.11.7"
  }
 },
 "nbformat": 4,
 "nbformat_minor": 5
}
